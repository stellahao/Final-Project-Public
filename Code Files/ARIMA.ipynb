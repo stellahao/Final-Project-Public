{
  "nbformat": 4,
  "nbformat_minor": 0,
  "metadata": {
    "colab": {
      "name": "ARIMA.ipynb",
      "provenance": []
    },
    "kernelspec": {
      "name": "python3",
      "display_name": "Python 3"
    },
    "language_info": {
      "name": "python"
    }
  },
  "cells": [
    {
      "cell_type": "markdown",
      "source": [
        "# Auto ARIMA model"
      ],
      "metadata": {
        "id": "l6xmWavmvwJC"
      }
    },
    {
      "cell_type": "markdown",
      "source": [
        "1. Import required libaries"
      ],
      "metadata": {
        "id": "HXwCziv3wCDy"
      }
    },
    {
      "cell_type": "code",
      "execution_count": 22,
      "metadata": {
        "colab": {
          "base_uri": "https://localhost:8080/"
        },
        "id": "Q8T7NMRDiayc",
        "outputId": "534079c8-5cfe-43f4-f49a-f6a109b146c8"
      },
      "outputs": [
        {
          "output_type": "stream",
          "name": "stdout",
          "text": [
            "Looking in indexes: https://pypi.org/simple, https://us-python.pkg.dev/colab-wheels/public/simple/\n",
            "Requirement already satisfied: pmdarima in /usr/local/lib/python3.7/dist-packages (1.8.5)\n",
            "Requirement already satisfied: setuptools!=50.0.0,>=38.6.0 in /usr/local/lib/python3.7/dist-packages (from pmdarima) (57.4.0)\n",
            "Requirement already satisfied: joblib>=0.11 in /usr/local/lib/python3.7/dist-packages (from pmdarima) (1.1.0)\n",
            "Requirement already satisfied: scikit-learn>=0.22 in /usr/local/lib/python3.7/dist-packages (from pmdarima) (1.0.2)\n",
            "Requirement already satisfied: statsmodels!=0.12.0,>=0.11 in /usr/local/lib/python3.7/dist-packages (from pmdarima) (0.13.2)\n",
            "Requirement already satisfied: urllib3 in /usr/local/lib/python3.7/dist-packages (from pmdarima) (1.24.3)\n",
            "Requirement already satisfied: scipy>=1.3.2 in /usr/local/lib/python3.7/dist-packages (from pmdarima) (1.7.3)\n",
            "Requirement already satisfied: pandas>=0.19 in /usr/local/lib/python3.7/dist-packages (from pmdarima) (1.3.5)\n",
            "Requirement already satisfied: Cython!=0.29.18,>=0.29 in /usr/local/lib/python3.7/dist-packages (from pmdarima) (0.29.30)\n",
            "Requirement already satisfied: numpy>=1.19.3 in /usr/local/lib/python3.7/dist-packages (from pmdarima) (1.21.6)\n",
            "Requirement already satisfied: python-dateutil>=2.7.3 in /usr/local/lib/python3.7/dist-packages (from pandas>=0.19->pmdarima) (2.8.2)\n",
            "Requirement already satisfied: pytz>=2017.3 in /usr/local/lib/python3.7/dist-packages (from pandas>=0.19->pmdarima) (2022.1)\n",
            "Requirement already satisfied: six>=1.5 in /usr/local/lib/python3.7/dist-packages (from python-dateutil>=2.7.3->pandas>=0.19->pmdarima) (1.15.0)\n",
            "Requirement already satisfied: threadpoolctl>=2.0.0 in /usr/local/lib/python3.7/dist-packages (from scikit-learn>=0.22->pmdarima) (3.1.0)\n",
            "Requirement already satisfied: packaging>=21.3 in /usr/local/lib/python3.7/dist-packages (from statsmodels!=0.12.0,>=0.11->pmdarima) (21.3)\n",
            "Requirement already satisfied: patsy>=0.5.2 in /usr/local/lib/python3.7/dist-packages (from statsmodels!=0.12.0,>=0.11->pmdarima) (0.5.2)\n",
            "Requirement already satisfied: pyparsing!=3.0.5,>=2.0.2 in /usr/local/lib/python3.7/dist-packages (from packaging>=21.3->statsmodels!=0.12.0,>=0.11->pmdarima) (3.0.9)\n"
          ]
        }
      ],
      "source": [
        "!pip install pmdarima\n",
        "import pmdarima as pm\n",
        "import pandas as pd\n",
        "import matplotlib.pyplot as plt\n",
        "import numpy as np\n",
        "from statsmodels.tsa.stattools import acf"
      ]
    },
    {
      "cell_type": "markdown",
      "source": [
        "2. Import dataset"
      ],
      "metadata": {
        "id": "Los1j0UewB7y"
      }
    },
    {
      "cell_type": "code",
      "source": [
        "final_df = pd.read_csv('final_dt.csv')\n",
        "final_df"
      ],
      "metadata": {
        "colab": {
          "base_uri": "https://localhost:8080/",
          "height": 661
        },
        "id": "FDSJNU9UihG2",
        "outputId": "10b46501-5654-4b87-ce89-f342337d8f9e"
      },
      "execution_count": 23,
      "outputs": [
        {
          "output_type": "execute_result",
          "data": {
            "text/plain": [
              "         REF_DATE         Close        SMA_10        SMA_50       SMA_100  \\\n",
              "0      1981-01-02   2290.399902   2266.609985   2284.252002   2284.515005   \n",
              "1      1981-01-05   2307.100098   2273.469995   2283.106006   2285.332007   \n",
              "2      1981-01-06   2319.399902   2280.839990   2282.340005   2286.058005   \n",
              "3      1981-01-07   2265.399902   2280.929980   2281.186001   2286.319004   \n",
              "4      1981-01-08   2248.300049   2277.549976   2279.768003   2286.387004   \n",
              "...           ...           ...           ...           ...           ...   \n",
              "10293  2021-12-23  21218.900390  20828.799805  21162.001953  20814.651016   \n",
              "10294  2021-12-24  21229.699220  20862.709766  21168.033945  20823.651016   \n",
              "10295  2021-12-29  21344.699220  20922.329688  21175.219922  20833.343008   \n",
              "10296  2021-12-30  21294.599610  20986.929688  21179.371914  20841.535000   \n",
              "10297  2021-12-31  21222.800780  21032.289844  21180.063945  20849.389004   \n",
              "\n",
              "            SMA_200   close_trend    cpi   gross_income     housing  \\\n",
              "0       2128.722005   2262.289576   46.9   84592.244444   38.216129   \n",
              "1       2130.521005   2259.309367   46.9   84754.977778   38.264516   \n",
              "2       2132.794005   2256.409365   46.9   84809.222222   38.280645   \n",
              "3       2134.697004   2253.921865   46.9   84863.466667   38.296774   \n",
              "4       2136.318504   2251.417699   46.9   84917.711111   38.312903   \n",
              "...             ...           ...    ...            ...         ...   \n",
              "10293  20204.845010  21023.557251  144.0  642069.684783  121.580645   \n",
              "10294  20216.770508  21017.748922  144.0  641776.608696  121.616129   \n",
              "10295  20229.237500  21015.745789  144.0  640311.228261  121.793548   \n",
              "10296  20240.936494  21010.060364  144.0  640018.152174  121.829032   \n",
              "10297  20252.680498  21001.771830  144.0  639725.076087  121.864516   \n",
              "\n",
              "       prime_rate  \n",
              "0           18.25  \n",
              "1           18.25  \n",
              "2           18.25  \n",
              "3           18.25  \n",
              "4           18.25  \n",
              "...           ...  \n",
              "10293        2.45  \n",
              "10294        2.45  \n",
              "10295        2.45  \n",
              "10296        2.45  \n",
              "10297        2.45  \n",
              "\n",
              "[10298 rows x 11 columns]"
            ],
            "text/html": [
              "\n",
              "  <div id=\"df-9ff835cf-b522-4e0c-ae50-b574d341c0cd\">\n",
              "    <div class=\"colab-df-container\">\n",
              "      <div>\n",
              "<style scoped>\n",
              "    .dataframe tbody tr th:only-of-type {\n",
              "        vertical-align: middle;\n",
              "    }\n",
              "\n",
              "    .dataframe tbody tr th {\n",
              "        vertical-align: top;\n",
              "    }\n",
              "\n",
              "    .dataframe thead th {\n",
              "        text-align: right;\n",
              "    }\n",
              "</style>\n",
              "<table border=\"1\" class=\"dataframe\">\n",
              "  <thead>\n",
              "    <tr style=\"text-align: right;\">\n",
              "      <th></th>\n",
              "      <th>REF_DATE</th>\n",
              "      <th>Close</th>\n",
              "      <th>SMA_10</th>\n",
              "      <th>SMA_50</th>\n",
              "      <th>SMA_100</th>\n",
              "      <th>SMA_200</th>\n",
              "      <th>close_trend</th>\n",
              "      <th>cpi</th>\n",
              "      <th>gross_income</th>\n",
              "      <th>housing</th>\n",
              "      <th>prime_rate</th>\n",
              "    </tr>\n",
              "  </thead>\n",
              "  <tbody>\n",
              "    <tr>\n",
              "      <th>0</th>\n",
              "      <td>1981-01-02</td>\n",
              "      <td>2290.399902</td>\n",
              "      <td>2266.609985</td>\n",
              "      <td>2284.252002</td>\n",
              "      <td>2284.515005</td>\n",
              "      <td>2128.722005</td>\n",
              "      <td>2262.289576</td>\n",
              "      <td>46.9</td>\n",
              "      <td>84592.244444</td>\n",
              "      <td>38.216129</td>\n",
              "      <td>18.25</td>\n",
              "    </tr>\n",
              "    <tr>\n",
              "      <th>1</th>\n",
              "      <td>1981-01-05</td>\n",
              "      <td>2307.100098</td>\n",
              "      <td>2273.469995</td>\n",
              "      <td>2283.106006</td>\n",
              "      <td>2285.332007</td>\n",
              "      <td>2130.521005</td>\n",
              "      <td>2259.309367</td>\n",
              "      <td>46.9</td>\n",
              "      <td>84754.977778</td>\n",
              "      <td>38.264516</td>\n",
              "      <td>18.25</td>\n",
              "    </tr>\n",
              "    <tr>\n",
              "      <th>2</th>\n",
              "      <td>1981-01-06</td>\n",
              "      <td>2319.399902</td>\n",
              "      <td>2280.839990</td>\n",
              "      <td>2282.340005</td>\n",
              "      <td>2286.058005</td>\n",
              "      <td>2132.794005</td>\n",
              "      <td>2256.409365</td>\n",
              "      <td>46.9</td>\n",
              "      <td>84809.222222</td>\n",
              "      <td>38.280645</td>\n",
              "      <td>18.25</td>\n",
              "    </tr>\n",
              "    <tr>\n",
              "      <th>3</th>\n",
              "      <td>1981-01-07</td>\n",
              "      <td>2265.399902</td>\n",
              "      <td>2280.929980</td>\n",
              "      <td>2281.186001</td>\n",
              "      <td>2286.319004</td>\n",
              "      <td>2134.697004</td>\n",
              "      <td>2253.921865</td>\n",
              "      <td>46.9</td>\n",
              "      <td>84863.466667</td>\n",
              "      <td>38.296774</td>\n",
              "      <td>18.25</td>\n",
              "    </tr>\n",
              "    <tr>\n",
              "      <th>4</th>\n",
              "      <td>1981-01-08</td>\n",
              "      <td>2248.300049</td>\n",
              "      <td>2277.549976</td>\n",
              "      <td>2279.768003</td>\n",
              "      <td>2286.387004</td>\n",
              "      <td>2136.318504</td>\n",
              "      <td>2251.417699</td>\n",
              "      <td>46.9</td>\n",
              "      <td>84917.711111</td>\n",
              "      <td>38.312903</td>\n",
              "      <td>18.25</td>\n",
              "    </tr>\n",
              "    <tr>\n",
              "      <th>...</th>\n",
              "      <td>...</td>\n",
              "      <td>...</td>\n",
              "      <td>...</td>\n",
              "      <td>...</td>\n",
              "      <td>...</td>\n",
              "      <td>...</td>\n",
              "      <td>...</td>\n",
              "      <td>...</td>\n",
              "      <td>...</td>\n",
              "      <td>...</td>\n",
              "      <td>...</td>\n",
              "    </tr>\n",
              "    <tr>\n",
              "      <th>10293</th>\n",
              "      <td>2021-12-23</td>\n",
              "      <td>21218.900390</td>\n",
              "      <td>20828.799805</td>\n",
              "      <td>21162.001953</td>\n",
              "      <td>20814.651016</td>\n",
              "      <td>20204.845010</td>\n",
              "      <td>21023.557251</td>\n",
              "      <td>144.0</td>\n",
              "      <td>642069.684783</td>\n",
              "      <td>121.580645</td>\n",
              "      <td>2.45</td>\n",
              "    </tr>\n",
              "    <tr>\n",
              "      <th>10294</th>\n",
              "      <td>2021-12-24</td>\n",
              "      <td>21229.699220</td>\n",
              "      <td>20862.709766</td>\n",
              "      <td>21168.033945</td>\n",
              "      <td>20823.651016</td>\n",
              "      <td>20216.770508</td>\n",
              "      <td>21017.748922</td>\n",
              "      <td>144.0</td>\n",
              "      <td>641776.608696</td>\n",
              "      <td>121.616129</td>\n",
              "      <td>2.45</td>\n",
              "    </tr>\n",
              "    <tr>\n",
              "      <th>10295</th>\n",
              "      <td>2021-12-29</td>\n",
              "      <td>21344.699220</td>\n",
              "      <td>20922.329688</td>\n",
              "      <td>21175.219922</td>\n",
              "      <td>20833.343008</td>\n",
              "      <td>20229.237500</td>\n",
              "      <td>21015.745789</td>\n",
              "      <td>144.0</td>\n",
              "      <td>640311.228261</td>\n",
              "      <td>121.793548</td>\n",
              "      <td>2.45</td>\n",
              "    </tr>\n",
              "    <tr>\n",
              "      <th>10296</th>\n",
              "      <td>2021-12-30</td>\n",
              "      <td>21294.599610</td>\n",
              "      <td>20986.929688</td>\n",
              "      <td>21179.371914</td>\n",
              "      <td>20841.535000</td>\n",
              "      <td>20240.936494</td>\n",
              "      <td>21010.060364</td>\n",
              "      <td>144.0</td>\n",
              "      <td>640018.152174</td>\n",
              "      <td>121.829032</td>\n",
              "      <td>2.45</td>\n",
              "    </tr>\n",
              "    <tr>\n",
              "      <th>10297</th>\n",
              "      <td>2021-12-31</td>\n",
              "      <td>21222.800780</td>\n",
              "      <td>21032.289844</td>\n",
              "      <td>21180.063945</td>\n",
              "      <td>20849.389004</td>\n",
              "      <td>20252.680498</td>\n",
              "      <td>21001.771830</td>\n",
              "      <td>144.0</td>\n",
              "      <td>639725.076087</td>\n",
              "      <td>121.864516</td>\n",
              "      <td>2.45</td>\n",
              "    </tr>\n",
              "  </tbody>\n",
              "</table>\n",
              "<p>10298 rows × 11 columns</p>\n",
              "</div>\n",
              "      <button class=\"colab-df-convert\" onclick=\"convertToInteractive('df-9ff835cf-b522-4e0c-ae50-b574d341c0cd')\"\n",
              "              title=\"Convert this dataframe to an interactive table.\"\n",
              "              style=\"display:none;\">\n",
              "        \n",
              "  <svg xmlns=\"http://www.w3.org/2000/svg\" height=\"24px\"viewBox=\"0 0 24 24\"\n",
              "       width=\"24px\">\n",
              "    <path d=\"M0 0h24v24H0V0z\" fill=\"none\"/>\n",
              "    <path d=\"M18.56 5.44l.94 2.06.94-2.06 2.06-.94-2.06-.94-.94-2.06-.94 2.06-2.06.94zm-11 1L8.5 8.5l.94-2.06 2.06-.94-2.06-.94L8.5 2.5l-.94 2.06-2.06.94zm10 10l.94 2.06.94-2.06 2.06-.94-2.06-.94-.94-2.06-.94 2.06-2.06.94z\"/><path d=\"M17.41 7.96l-1.37-1.37c-.4-.4-.92-.59-1.43-.59-.52 0-1.04.2-1.43.59L10.3 9.45l-7.72 7.72c-.78.78-.78 2.05 0 2.83L4 21.41c.39.39.9.59 1.41.59.51 0 1.02-.2 1.41-.59l7.78-7.78 2.81-2.81c.8-.78.8-2.07 0-2.86zM5.41 20L4 18.59l7.72-7.72 1.47 1.35L5.41 20z\"/>\n",
              "  </svg>\n",
              "      </button>\n",
              "      \n",
              "  <style>\n",
              "    .colab-df-container {\n",
              "      display:flex;\n",
              "      flex-wrap:wrap;\n",
              "      gap: 12px;\n",
              "    }\n",
              "\n",
              "    .colab-df-convert {\n",
              "      background-color: #E8F0FE;\n",
              "      border: none;\n",
              "      border-radius: 50%;\n",
              "      cursor: pointer;\n",
              "      display: none;\n",
              "      fill: #1967D2;\n",
              "      height: 32px;\n",
              "      padding: 0 0 0 0;\n",
              "      width: 32px;\n",
              "    }\n",
              "\n",
              "    .colab-df-convert:hover {\n",
              "      background-color: #E2EBFA;\n",
              "      box-shadow: 0px 1px 2px rgba(60, 64, 67, 0.3), 0px 1px 3px 1px rgba(60, 64, 67, 0.15);\n",
              "      fill: #174EA6;\n",
              "    }\n",
              "\n",
              "    [theme=dark] .colab-df-convert {\n",
              "      background-color: #3B4455;\n",
              "      fill: #D2E3FC;\n",
              "    }\n",
              "\n",
              "    [theme=dark] .colab-df-convert:hover {\n",
              "      background-color: #434B5C;\n",
              "      box-shadow: 0px 1px 3px 1px rgba(0, 0, 0, 0.15);\n",
              "      filter: drop-shadow(0px 1px 2px rgba(0, 0, 0, 0.3));\n",
              "      fill: #FFFFFF;\n",
              "    }\n",
              "  </style>\n",
              "\n",
              "      <script>\n",
              "        const buttonEl =\n",
              "          document.querySelector('#df-9ff835cf-b522-4e0c-ae50-b574d341c0cd button.colab-df-convert');\n",
              "        buttonEl.style.display =\n",
              "          google.colab.kernel.accessAllowed ? 'block' : 'none';\n",
              "\n",
              "        async function convertToInteractive(key) {\n",
              "          const element = document.querySelector('#df-9ff835cf-b522-4e0c-ae50-b574d341c0cd');\n",
              "          const dataTable =\n",
              "            await google.colab.kernel.invokeFunction('convertToInteractive',\n",
              "                                                     [key], {});\n",
              "          if (!dataTable) return;\n",
              "\n",
              "          const docLinkHtml = 'Like what you see? Visit the ' +\n",
              "            '<a target=\"_blank\" href=https://colab.research.google.com/notebooks/data_table.ipynb>data table notebook</a>'\n",
              "            + ' to learn more about interactive tables.';\n",
              "          element.innerHTML = '';\n",
              "          dataTable['output_type'] = 'display_data';\n",
              "          await google.colab.output.renderOutput(dataTable, element);\n",
              "          const docLink = document.createElement('div');\n",
              "          docLink.innerHTML = docLinkHtml;\n",
              "          element.appendChild(docLink);\n",
              "        }\n",
              "      </script>\n",
              "    </div>\n",
              "  </div>\n",
              "  "
            ]
          },
          "metadata": {},
          "execution_count": 23
        }
      ]
    },
    {
      "cell_type": "markdown",
      "source": [
        "3. Convert REF_DATE to datetime format to be used for the ARIMA model"
      ],
      "metadata": {
        "id": "rYLyMsJTwaL4"
      }
    },
    {
      "cell_type": "code",
      "source": [
        "final_df['REF_DATE']=pd.to_datetime(final_df['REF_DATE'])"
      ],
      "metadata": {
        "id": "LFvJKlRqi8fH"
      },
      "execution_count": 24,
      "outputs": []
    },
    {
      "cell_type": "markdown",
      "source": [
        "4. Set index to be REF_DATE "
      ],
      "metadata": {
        "id": "GEfOXQtFwl39"
      }
    },
    {
      "cell_type": "code",
      "source": [
        "el_df=final_df.set_index('REF_DATE')"
      ],
      "metadata": {
        "id": "TQLklo_8jgBM"
      },
      "execution_count": 25,
      "outputs": []
    },
    {
      "cell_type": "code",
      "source": [
        "#drop close_trend as Auto ARIMA will has a seasonality component\n",
        "el_df=el_df.drop(['close_trend'], axis=1)"
      ],
      "metadata": {
        "id": "bARTh4rnKL0w"
      },
      "execution_count": 26,
      "outputs": []
    },
    {
      "cell_type": "markdown",
      "source": [
        "5. Initialize the Auto ARIMA function. EL_DF is passed into the model with the Close column as the column to be predicted. \n",
        "\n",
        "  Auto ARIMA will search for the optimal value for p, d, and q. \n",
        "\n",
        "  p - the number of time lags\n",
        "\n",
        "  d - the order of first-differencing\n",
        "\n",
        "  q - the order of moving average\n",
        "\n",
        "  seasonal - default is True"
      ],
      "metadata": {
        "id": "-b22qg_gxwQo"
      }
    },
    {
      "cell_type": "code",
      "source": [
        "model = pm.auto_arima(el_df['Close'], \n",
        "                      start_p=0, start_q=0, max_order=4, test='adf',error_action='ignore',  \n",
        "                           suppress_warnings=True,\n",
        "                      stepwise=True, trace=True)"
      ],
      "metadata": {
        "colab": {
          "base_uri": "https://localhost:8080/"
        },
        "id": "1q6b0mOSjrm9",
        "outputId": "fac2e293-8594-48f4-ff5f-1cb3d4506519"
      },
      "execution_count": 27,
      "outputs": [
        {
          "output_type": "stream",
          "name": "stdout",
          "text": [
            "Performing stepwise search to minimize aic\n",
            " ARIMA(0,1,0)(0,0,0)[0] intercept   : AIC=123584.167, Time=0.34 sec\n",
            " ARIMA(1,1,0)(0,0,0)[0] intercept   : AIC=123571.787, Time=0.73 sec\n",
            " ARIMA(0,1,1)(0,0,0)[0] intercept   : AIC=123572.219, Time=0.92 sec\n",
            " ARIMA(0,1,0)(0,0,0)[0]             : AIC=123585.814, Time=0.16 sec\n",
            " ARIMA(2,1,0)(0,0,0)[0] intercept   : AIC=123571.837, Time=1.10 sec\n",
            " ARIMA(1,1,1)(0,0,0)[0] intercept   : AIC=123573.017, Time=1.11 sec\n",
            " ARIMA(2,1,1)(0,0,0)[0] intercept   : AIC=123572.716, Time=4.73 sec\n",
            " ARIMA(1,1,0)(0,0,0)[0]             : AIC=123573.716, Time=0.25 sec\n",
            "\n",
            "Best model:  ARIMA(1,1,0)(0,0,0)[0] intercept\n",
            "Total fit time: 9.383 seconds\n"
          ]
        }
      ]
    },
    {
      "cell_type": "markdown",
      "source": [
        "6. Split the data into train and test. Here, only keeping the test date to 21 days in December 2021."
      ],
      "metadata": {
        "id": "sUExfl8FJr4A"
      }
    },
    {
      "cell_type": "code",
      "source": [
        "train=el_df[(el_df.index.get_level_values(0) <= \"2021-11-30\")]"
      ],
      "metadata": {
        "id": "QH9rvFTPkHF7"
      },
      "execution_count": 28,
      "outputs": []
    },
    {
      "cell_type": "code",
      "source": [
        "test=el_df[(el_df.index.get_level_values(0) > \"2021-11-30\")]"
      ],
      "metadata": {
        "id": "Q1MRCuOqkRKZ"
      },
      "execution_count": 29,
      "outputs": []
    },
    {
      "cell_type": "markdown",
      "source": [
        "7. Passing the train data into the ARIMA model."
      ],
      "metadata": {
        "id": "79aoOEw0J2Fa"
      }
    },
    {
      "cell_type": "code",
      "source": [
        "model.fit(train['Close'])"
      ],
      "metadata": {
        "colab": {
          "base_uri": "https://localhost:8080/"
        },
        "id": "z8jgsRNtmPaU",
        "outputId": "ea8de7dd-d57a-4299-bc44-d53b9816d3e1"
      },
      "execution_count": 30,
      "outputs": [
        {
          "output_type": "execute_result",
          "data": {
            "text/plain": [
              "ARIMA(order=(1, 1, 0), scoring_args={}, suppress_warnings=True)"
            ]
          },
          "metadata": {},
          "execution_count": 30
        }
      ]
    },
    {
      "cell_type": "markdown",
      "source": [
        "8. Based on the previously trained model, make prediction for 21 periods."
      ],
      "metadata": {
        "id": "fcYxlcWxJ9Eh"
      }
    },
    {
      "cell_type": "code",
      "source": [
        "forecast=model.predict(n_periods=21, return_conf_int=True)"
      ],
      "metadata": {
        "id": "0lZSkfbqmY5q"
      },
      "execution_count": 31,
      "outputs": []
    },
    {
      "cell_type": "markdown",
      "source": [
        "10. Storing the forecasted Close price into a new dataframe column named 'Prediction'"
      ],
      "metadata": {
        "id": "osvGyayHKG8-"
      }
    },
    {
      "cell_type": "code",
      "source": [
        "forecast_df = pd.DataFrame(forecast[0],index = test.index,columns=['Prediction'])"
      ],
      "metadata": {
        "id": "9lmtRN7Ame-x"
      },
      "execution_count": 32,
      "outputs": []
    },
    {
      "cell_type": "markdown",
      "source": [
        "11. Graph the actual Close price and the Predicted Price for the test period."
      ],
      "metadata": {
        "id": "glh-KwXcKRZT"
      }
    },
    {
      "cell_type": "code",
      "source": [
        "pd.concat([test['Close'],forecast_df],axis=1).plot(legend=True,title='ARIMA Model Close: Forecast vs Actuals')"
      ],
      "metadata": {
        "colab": {
          "base_uri": "https://localhost:8080/",
          "height": 319
        },
        "id": "ezD37i8rmvca",
        "outputId": "4d05b5bd-9c46-4268-a39a-c508403690c5"
      },
      "execution_count": 33,
      "outputs": [
        {
          "output_type": "execute_result",
          "data": {
            "text/plain": [
              "<matplotlib.axes._subplots.AxesSubplot at 0x7f51a7171790>"
            ]
          },
          "metadata": {},
          "execution_count": 33
        },
        {
          "output_type": "display_data",
          "data": {
            "text/plain": [
              "<Figure size 432x288 with 1 Axes>"
            ],
            "image/png": "[encoded data removed]"
          },
          "metadata": {
            "needs_background": "light"
          }
        }
      ]
    },
    {
      "cell_type": "markdown",
      "source": [
        "12. Final Evaluation of the Model\n",
        "\n",
        "MAPE: Mean Absolute Percentage Error\n",
        "\n",
        "MAE: Mean Absolute Error\n",
        "\n",
        "MPE: Mean Percenage Error\n",
        "\n",
        "RMSE: Root Mean Square Error\n",
        "\n",
        "CORR: Correlation Coefficent\n",
        "\n",
        "Coefficient, r\n",
        "\n",
        "Strength of Association\tPositive\tNegative\n",
        "\n",
        "Small\t                 .1 to .3 or\t-0.1 to -0.3\n",
        "\n",
        "Medium\t               .3 to .5 or\t-0.3 to -0.5\n",
        "\n",
        "Large\t                 .5 to 1.0 or\t-0.5 to -1.0"
      ],
      "metadata": {
        "id": "hXEtwYDTKYxl"
      }
    },
    {
      "cell_type": "code",
      "source": [
        "#Evaluate Forecast\n",
        "\n",
        "def forecast_accuracy(forecast, actual):\n",
        "    mape = np.mean(np.abs(forecast - actual)/np.abs(actual))  # MAPE\n",
        "    mae = np.mean(np.abs(forecast - actual))    # MAE\n",
        "    mpe = np.mean((forecast - actual)/actual)   # MPE\n",
        "    rmse = np.mean((forecast - actual)**2)**.5  # RMSE\n",
        "    corr = np.corrcoef(forecast, actual)[0,1]   # corr\n",
        "    return({'mape':mape, 'mae': mae, \n",
        "            'mpe': mpe, 'rmse':rmse, 'corr':corr})\n",
        "\n",
        "print('Forecast Accuracy of: Close')\n",
        "accuracy_prod = forecast_accuracy(forecast_df['Prediction'].values, test['Close'].values)\n",
        "for k, v in accuracy_prod.items():\n",
        "    print(k, ': ', round(v,4))\n",
        "\n"
      ],
      "metadata": {
        "colab": {
          "base_uri": "https://localhost:8080/"
        },
        "id": "8indMdhzOA0w",
        "outputId": "f33103cf-9fe6-4a63-accc-ed4a45a23632"
      },
      "execution_count": 34,
      "outputs": [
        {
          "output_type": "stream",
          "name": "stdout",
          "text": [
            "Forecast Accuracy of: Close\n",
            "mape :  0.0126\n",
            "mae :  265.2884\n",
            "mpe :  -0.0104\n",
            "rmse :  331.3257\n",
            "corr :  0.6146\n"
          ]
        }
      ]
    }
  ]
}