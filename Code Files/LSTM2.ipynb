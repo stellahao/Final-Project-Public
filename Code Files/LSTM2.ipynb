{
  "nbformat": 4,
  "nbformat_minor": 0,
  "metadata": {
    "colab": {
      "name": "LSTM2.ipynb",
      "provenance": []
    },
    "kernelspec": {
      "name": "python3",
      "display_name": "Python 3"
    },
    "language_info": {
      "name": "python"
    }
  },
  "cells": [
    {
      "cell_type": "markdown",
      "source": [
        "LTSM Model - Long Short-Term Memory is a recurrent neural networks model for mutiple input varialbes.\n"
      ],
      "metadata": {
        "id": "eVG3aanHuN3W"
      }
    },
    {
      "cell_type": "markdown",
      "source": [
        "1. Import required libraries and base data. Convert data to supervised learning."
      ],
      "metadata": {
        "id": "vwzFuxYgueva"
      }
    },
    {
      "cell_type": "code",
      "execution_count": 1,
      "metadata": {
        "colab": {
          "base_uri": "https://localhost:8080/"
        },
        "id": "79XPlsUnV5VH",
        "outputId": "e147ac32-1dbf-4d1b-db92-04338697f06f"
      },
      "outputs": [
        {
          "output_type": "stream",
          "name": "stderr",
          "text": [
            "/usr/local/lib/python3.7/dist-packages/statsmodels/tools/_testing.py:19: FutureWarning: pandas.util.testing is deprecated. Use the functions in the public API at pandas.testing instead.\n",
            "  import pandas.util.testing as tm\n"
          ]
        },
        {
          "output_type": "stream",
          "name": "stdout",
          "text": [
            "   var1(t-1)  var2(t-1)  var3(t-1)  var4(t-1)  var5(t-1)  var6(t-1)  \\\n",
            "1   0.046224   0.044550   0.044413   0.041528   0.029638   0.043390   \n",
            "2   0.047042   0.044888   0.044355   0.041570   0.029734   0.043239   \n",
            "3   0.047644   0.045252   0.044316   0.041608   0.029856   0.043092   \n",
            "4   0.045000   0.045257   0.044258   0.041621   0.029958   0.042967   \n",
            "5   0.044163   0.045090   0.044186   0.041625   0.030044   0.042840   \n",
            "\n",
            "   var7(t-1)  var8(t-1)  var9(t-1)  var10(t-1)   var1(t)  \n",
            "1        0.0   0.000000   0.006094    0.780488  0.047042  \n",
            "2        0.0   0.000280   0.006669    0.780488  0.047644  \n",
            "3        0.0   0.000373   0.006861    0.780488  0.045000  \n",
            "4        0.0   0.000466   0.007053    0.780488  0.044163  \n",
            "5        0.0   0.000559   0.007244    0.780488  0.044795  \n"
          ]
        }
      ],
      "source": [
        "from pandas import read_csv\n",
        "from pandas import DataFrame\n",
        "from pandas import concat\n",
        "from math import sqrt\n",
        "from numpy import concatenate\n",
        "from matplotlib import pyplot\n",
        "from pandas import read_csv\n",
        "from sklearn.preprocessing import MinMaxScaler\n",
        "from sklearn.metrics import mean_squared_error\n",
        "from keras.models import Sequential\n",
        "import pandas as pd\n",
        "from keras.layers import LSTM,Dropout,Dense\n",
        "import numpy as np\n",
        "from statsmodels.tsa.stattools import acf\n",
        "\n",
        "from numpy.random import seed\n",
        "seed(1)\n",
        " \n",
        "# convert data to supervised learning\n",
        "def data_to_supervised(data, n_in=1, n_out=1, dropnan=True):\n",
        "\tn_vars = 1 if type(data) is list else data.shape[1]\n",
        "\tdf = DataFrame(data)\n",
        "\tcols, names = list(), list()\n",
        "\t# input sequence (t-n, ... t-1)\n",
        "\tfor i in range(n_in, 0, -1):\n",
        "\t\tcols.append(df.shift(i))\n",
        "\t\tnames += [('var%d(t-%d)' % (j+1, i)) for j in range(n_vars)]\n",
        "\t# forecast sequence (t, t+1, ... t+n)\n",
        "\tfor i in range(0, n_out):\n",
        "\t\tcols.append(df.shift(-i))\n",
        "\t\tif i == 0:\n",
        "\t\t\tnames += [('var%d(t)' % (j+1)) for j in range(n_vars)]\n",
        "\t\telse:\n",
        "\t\t\tnames += [('var%d(t+%d)' % (j+1, i)) for j in range(n_vars)]\n",
        "\t# put it all together\n",
        "\tagg = concat(cols, axis=1)\n",
        "\tagg.columns = names\n",
        "\t# drop rows with NaN values\n",
        "\tif dropnan:\n",
        "\t\tagg.dropna(inplace=True)\n",
        "\treturn agg\n",
        " \n",
        "# load dataset\n",
        "dataset = read_csv('final_dt.csv', header=0, index_col=0)\n",
        "values = dataset.values\n",
        "# ensure all data is float\n",
        "values = values.astype('float32')\n",
        "# normalize features\n",
        "scaler = MinMaxScaler(feature_range=(0, 1))\n",
        "scaled = scaler.fit_transform(values)\n",
        "# frame as supervised learning\n",
        "reframed = data_to_supervised(scaled, 1, 1)\n",
        "# drop columns we don't want to predict (Taking only 1 column 'Close' as the predict column)\n",
        "reframed.drop(reframed.columns[[11,12,13,14,15,16,17,18,19]], axis=1, inplace=True)\n",
        "print(reframed.head())"
      ]
    },
    {
      "cell_type": "markdown",
      "source": [
        "2. Check the length of the data to determine train and test data points. Here we have 10298 records. The train and test split will be based on December 2021 dates."
      ],
      "metadata": {
        "id": "0e6ieiBIvMhx"
      }
    },
    {
      "cell_type": "code",
      "source": [
        "len(dataset)"
      ],
      "metadata": {
        "colab": {
          "base_uri": "https://localhost:8080/"
        },
        "id": "YP_YYUvCZdau",
        "outputId": "02bcba47-0332-4945-a177-9ad41d9bfe2d"
      },
      "execution_count": 12,
      "outputs": [
        {
          "output_type": "execute_result",
          "data": {
            "text/plain": [
              "10298"
            ]
          },
          "metadata": {},
          "execution_count": 12
        }
      ]
    },
    {
      "cell_type": "markdown",
      "source": [
        "3. Transform Data for LSTM model - split the data into train and test dataset and reshape the input and out variable to 3D [samples, timestamps, features]"
      ],
      "metadata": {
        "id": "jnX657T3wxTS"
      }
    },
    {
      "cell_type": "code",
      "source": [
        "# split into train and test sets\n",
        "values = reframed.values\n",
        "train = values[:10275, :]\n",
        "test = values[10276:, :]\n",
        "test_forecast=dataset[(dataset.index.get_level_values(0) > \"2021-11-30\")]\n",
        "# split into input and outputs\n",
        "train_X, train_y = train[:, :-1], train[:, -1]\n",
        "test_X, test_y = test[:, :-1], test[:, -1]\n",
        "# reshape input to be 3D [samples, timestamps, features]\n",
        "train_X = train_X.reshape((train_X.shape[0], 1, train_X.shape[1]))\n",
        "test_X = test_X.reshape((test_X.shape[0], 1, test_X.shape[1]))\n",
        "print(train_X.shape, train_y.shape, test_X.shape, test_y.shape)"
      ],
      "metadata": {
        "colab": {
          "base_uri": "https://localhost:8080/"
        },
        "id": "spwacgTvWG1y",
        "outputId": "38334a90-4f33-4977-81ee-53dec4803d49"
      },
      "execution_count": 2,
      "outputs": [
        {
          "output_type": "stream",
          "name": "stdout",
          "text": [
            "(10275, 1, 10) (10275,) (21, 1, 10) (21,)\n"
          ]
        }
      ]
    },
    {
      "cell_type": "markdown",
      "source": [
        "4. Define Model - LSTM model requires data analyst to determine the number of neurons in the first hidden layer and the number of neuron in the output layer for predicting the interested variable. The Mean Absolute Error loss function will be shown after fitting the model.  \n",
        "\n",
        "\n",
        "5. Fit Model - The model will be fit for 50 training epochs with a batch size of 72.The MAE cnoverges after 12 epoches."
      ],
      "metadata": {
        "id": "yvLoAf-W0b6J"
      }
    },
    {
      "cell_type": "code",
      "source": [
        "#design network\n",
        "model = Sequential()\n",
        "model.add(LSTM(50, input_shape=(train_X.shape[1], train_X.shape[2])))\n",
        "model.add(Dense(1))\n",
        "model.compile(loss='mae', optimizer='adam')\n",
        "# fit network\n",
        "history = model.fit(train_X, train_y, epochs=50, batch_size=72, validation_data=(test_X, test_y), verbose=2, shuffle=False)\n",
        "# plot history\n",
        "pyplot.plot(history.history['loss'], label='train')\n",
        "pyplot.plot(history.history['val_loss'], label='test')\n",
        "pyplot.legend()\n",
        "pyplot.show()"
      ],
      "metadata": {
        "colab": {
          "base_uri": "https://localhost:8080/",
          "height": 1000
        },
        "id": "sW3xzPaRZ2Nx",
        "outputId": "ac88ab3d-4fd4-4bed-d3d8-a7b516405de7"
      },
      "execution_count": 3,
      "outputs": [
        {
          "output_type": "stream",
          "name": "stdout",
          "text": [
            "Epoch 1/50\n",
            "143/143 - 8s - loss: 0.0320 - val_loss: 0.0207 - 8s/epoch - 58ms/step\n",
            "Epoch 2/50\n",
            "143/143 - 1s - loss: 0.0345 - val_loss: 0.0133 - 965ms/epoch - 7ms/step\n",
            "Epoch 3/50\n",
            "143/143 - 1s - loss: 0.0171 - val_loss: 0.0290 - 804ms/epoch - 6ms/step\n",
            "Epoch 4/50\n",
            "143/143 - 1s - loss: 0.0202 - val_loss: 0.0279 - 505ms/epoch - 4ms/step\n",
            "Epoch 5/50\n",
            "143/143 - 0s - loss: 0.0167 - val_loss: 0.0285 - 381ms/epoch - 3ms/step\n",
            "Epoch 6/50\n",
            "143/143 - 0s - loss: 0.0150 - val_loss: 0.0207 - 377ms/epoch - 3ms/step\n",
            "Epoch 7/50\n",
            "143/143 - 0s - loss: 0.0145 - val_loss: 0.0216 - 362ms/epoch - 3ms/step\n",
            "Epoch 8/50\n",
            "143/143 - 0s - loss: 0.0126 - val_loss: 0.0206 - 391ms/epoch - 3ms/step\n",
            "Epoch 9/50\n",
            "143/143 - 0s - loss: 0.0139 - val_loss: 0.0189 - 346ms/epoch - 2ms/step\n",
            "Epoch 10/50\n",
            "143/143 - 0s - loss: 0.0127 - val_loss: 0.0154 - 375ms/epoch - 3ms/step\n",
            "Epoch 11/50\n",
            "143/143 - 0s - loss: 0.0129 - val_loss: 0.0158 - 370ms/epoch - 3ms/step\n",
            "Epoch 12/50\n",
            "143/143 - 0s - loss: 0.0129 - val_loss: 0.0133 - 343ms/epoch - 2ms/step\n",
            "Epoch 13/50\n",
            "143/143 - 0s - loss: 0.0136 - val_loss: 0.0099 - 363ms/epoch - 3ms/step\n",
            "Epoch 14/50\n",
            "143/143 - 0s - loss: 0.0140 - val_loss: 0.0098 - 351ms/epoch - 2ms/step\n",
            "Epoch 15/50\n",
            "143/143 - 0s - loss: 0.0134 - val_loss: 0.0097 - 406ms/epoch - 3ms/step\n",
            "Epoch 16/50\n",
            "143/143 - 0s - loss: 0.0129 - val_loss: 0.0097 - 345ms/epoch - 2ms/step\n",
            "Epoch 17/50\n",
            "143/143 - 0s - loss: 0.0122 - val_loss: 0.0098 - 376ms/epoch - 3ms/step\n",
            "Epoch 18/50\n",
            "143/143 - 0s - loss: 0.0123 - val_loss: 0.0099 - 353ms/epoch - 2ms/step\n",
            "Epoch 19/50\n",
            "143/143 - 0s - loss: 0.0119 - val_loss: 0.0095 - 356ms/epoch - 2ms/step\n",
            "Epoch 20/50\n",
            "143/143 - 0s - loss: 0.0117 - val_loss: 0.0096 - 349ms/epoch - 2ms/step\n",
            "Epoch 21/50\n",
            "143/143 - 0s - loss: 0.0117 - val_loss: 0.0103 - 398ms/epoch - 3ms/step\n",
            "Epoch 22/50\n",
            "143/143 - 0s - loss: 0.0111 - val_loss: 0.0095 - 388ms/epoch - 3ms/step\n",
            "Epoch 23/50\n",
            "143/143 - 0s - loss: 0.0108 - val_loss: 0.0096 - 366ms/epoch - 3ms/step\n",
            "Epoch 24/50\n",
            "143/143 - 0s - loss: 0.0106 - val_loss: 0.0102 - 372ms/epoch - 3ms/step\n",
            "Epoch 25/50\n",
            "143/143 - 0s - loss: 0.0099 - val_loss: 0.0096 - 364ms/epoch - 3ms/step\n",
            "Epoch 26/50\n",
            "143/143 - 0s - loss: 0.0094 - val_loss: 0.0092 - 406ms/epoch - 3ms/step\n",
            "Epoch 27/50\n",
            "143/143 - 0s - loss: 0.0089 - val_loss: 0.0092 - 354ms/epoch - 2ms/step\n",
            "Epoch 28/50\n",
            "143/143 - 0s - loss: 0.0084 - val_loss: 0.0100 - 331ms/epoch - 2ms/step\n",
            "Epoch 29/50\n",
            "143/143 - 0s - loss: 0.0083 - val_loss: 0.0092 - 373ms/epoch - 3ms/step\n",
            "Epoch 30/50\n",
            "143/143 - 0s - loss: 0.0083 - val_loss: 0.0092 - 361ms/epoch - 3ms/step\n",
            "Epoch 31/50\n",
            "143/143 - 0s - loss: 0.0081 - val_loss: 0.0098 - 337ms/epoch - 2ms/step\n",
            "Epoch 32/50\n",
            "143/143 - 0s - loss: 0.0081 - val_loss: 0.0091 - 352ms/epoch - 2ms/step\n",
            "Epoch 33/50\n",
            "143/143 - 0s - loss: 0.0081 - val_loss: 0.0092 - 352ms/epoch - 2ms/step\n",
            "Epoch 34/50\n",
            "143/143 - 0s - loss: 0.0079 - val_loss: 0.0092 - 365ms/epoch - 3ms/step\n",
            "Epoch 35/50\n",
            "143/143 - 0s - loss: 0.0077 - val_loss: 0.0092 - 382ms/epoch - 3ms/step\n",
            "Epoch 36/50\n",
            "143/143 - 0s - loss: 0.0075 - val_loss: 0.0093 - 362ms/epoch - 3ms/step\n",
            "Epoch 37/50\n",
            "143/143 - 0s - loss: 0.0074 - val_loss: 0.0092 - 358ms/epoch - 3ms/step\n",
            "Epoch 38/50\n",
            "143/143 - 0s - loss: 0.0071 - val_loss: 0.0097 - 358ms/epoch - 3ms/step\n",
            "Epoch 39/50\n",
            "143/143 - 0s - loss: 0.0072 - val_loss: 0.0095 - 351ms/epoch - 2ms/step\n",
            "Epoch 40/50\n",
            "143/143 - 0s - loss: 0.0066 - val_loss: 0.0097 - 390ms/epoch - 3ms/step\n",
            "Epoch 41/50\n",
            "143/143 - 0s - loss: 0.0068 - val_loss: 0.0097 - 366ms/epoch - 3ms/step\n",
            "Epoch 42/50\n",
            "143/143 - 0s - loss: 0.0066 - val_loss: 0.0094 - 360ms/epoch - 3ms/step\n",
            "Epoch 43/50\n",
            "143/143 - 0s - loss: 0.0061 - val_loss: 0.0094 - 383ms/epoch - 3ms/step\n",
            "Epoch 44/50\n",
            "143/143 - 0s - loss: 0.0061 - val_loss: 0.0090 - 363ms/epoch - 3ms/step\n",
            "Epoch 45/50\n",
            "143/143 - 0s - loss: 0.0061 - val_loss: 0.0092 - 361ms/epoch - 3ms/step\n",
            "Epoch 46/50\n",
            "143/143 - 0s - loss: 0.0061 - val_loss: 0.0090 - 376ms/epoch - 3ms/step\n",
            "Epoch 47/50\n",
            "143/143 - 0s - loss: 0.0060 - val_loss: 0.0092 - 356ms/epoch - 2ms/step\n",
            "Epoch 48/50\n",
            "143/143 - 0s - loss: 0.0060 - val_loss: 0.0089 - 392ms/epoch - 3ms/step\n",
            "Epoch 49/50\n",
            "143/143 - 0s - loss: 0.0060 - val_loss: 0.0091 - 367ms/epoch - 3ms/step\n",
            "Epoch 50/50\n",
            "143/143 - 0s - loss: 0.0060 - val_loss: 0.0090 - 342ms/epoch - 2ms/step\n"
          ]
        },
        {
          "output_type": "display_data",
          "data": {
            "text/plain": [
              "<Figure size 432x288 with 1 Axes>"
            ],
            "image/png": "[encoded data removed]"
          },
          "metadata": {
            "needs_background": "light"
          }
        }
      ]
    },
    {
      "cell_type": "markdown",
      "source": [
        "6. Forecast the test dataset dates. Concatenate the test and predict data and inverse scaling the 'Close' values."
      ],
      "metadata": {
        "id": "YtIKQZdO67W_"
      }
    },
    {
      "cell_type": "code",
      "source": [
        "# make a prediction\n",
        "yhat = model.predict(test_X)\n",
        "test_X = test_X.reshape((test_X.shape[0], test_X.shape[2]))\n",
        "# invert scaling for forecast\n",
        "inv_yhat = concatenate((yhat, test_X[:, 1:]), axis=1)\n",
        "inv_yhat = scaler.inverse_transform(inv_yhat)\n",
        "inv_yhat = inv_yhat[:,0]\n",
        "# invert scaling for actual\n",
        "test_y = test_y.reshape((len(test_y), 1))\n",
        "inv_y = concatenate((test_y, test_X[:, 1:]), axis=1)\n",
        "inv_y = scaler.inverse_transform(inv_y)\n",
        "inv_y = inv_y[:,0]"
      ],
      "metadata": {
        "id": "zRALJSPxaWKK"
      },
      "execution_count": 4,
      "outputs": []
    },
    {
      "cell_type": "markdown",
      "source": [
        "7. Add the predicted values into a dataframe to prepare for graphing."
      ],
      "metadata": {
        "id": "5pAcnaXK7Wky"
      }
    },
    {
      "cell_type": "code",
      "source": [
        "forecast_df = []\n",
        "forecast_df = pd.DataFrame(inv_yhat[0:21],index = test_forecast.index,columns=['Prediction'])"
      ],
      "metadata": {
        "id": "ccyAtNh44gaU"
      },
      "execution_count": 5,
      "outputs": []
    },
    {
      "cell_type": "markdown",
      "source": [
        "8. Shows the final result of the predicted value along with real value of Close price on the same graph."
      ],
      "metadata": {
        "id": "gdOsPYz37cXN"
      }
    },
    {
      "cell_type": "code",
      "source": [
        "pd.concat([test_forecast['Close'],forecast_df],axis=1).plot(legend=True,title='LSTM Model Close: Forecast vs Actuals')"
      ],
      "metadata": {
        "colab": {
          "base_uri": "https://localhost:8080/",
          "height": 313
        },
        "id": "aFkK0tPugH_O",
        "outputId": "eacdbc82-684c-4a79-8fcb-6d029cb2ba6f"
      },
      "execution_count": 6,
      "outputs": [
        {
          "output_type": "execute_result",
          "data": {
            "text/plain": [
              "<matplotlib.axes._subplots.AxesSubplot at 0x7fd0ba25d4d0>"
            ]
          },
          "metadata": {},
          "execution_count": 6
        },
        {
          "output_type": "display_data",
          "data": {
            "text/plain": [
              "<Figure size 432x288 with 1 Axes>"
            ],
            "image/png": "[encoded data removed]"
          },
          "metadata": {
            "needs_background": "light"
          }
        }
      ]
    },
    {
      "cell_type": "code",
      "source": [
        "#Evaluate Forecast\n",
        "def forecast_accuracy(forecast, actual):\n",
        "    mape = np.mean(np.abs(forecast - actual)/np.abs(actual))  # MAPE\n",
        "    mae = np.mean(np.abs(forecast - actual))    # MAE\n",
        "    mpe = np.mean((forecast - actual)/actual)   # MPE\n",
        "    rmse = np.mean((forecast - actual)**2)**.5  # RMSE\n",
        "    corr = np.corrcoef(forecast, actual)[0,1]   # corr\n",
        "    return({'mape':mape, 'mae': mae, \n",
        "            'mpe': mpe, 'rmse':rmse, 'corr':corr})\n",
        "\n",
        "print('Forecast Accuracy of: Close')\n",
        "accuracy_prod = forecast_accuracy(forecast_df['Prediction'].values, test_forecast['Close'].values)\n",
        "for k, v in accuracy_prod.items():\n",
        "    print(k, ': ', round(v,4))\n",
        "\n"
      ],
      "metadata": {
        "colab": {
          "base_uri": "https://localhost:8080/"
        },
        "id": "egOvFVWmgcjm",
        "outputId": "6abf5dd5-ae49-4c5e-c7d5-1373bfe9cbb7"
      },
      "execution_count": 7,
      "outputs": [
        {
          "output_type": "stream",
          "name": "stdout",
          "text": [
            "Forecast Accuracy of: Close\n",
            "mape :  0.0088\n",
            "mae :  184.1763\n",
            "mpe :  -0.0028\n",
            "rmse :  228.0497\n",
            "corr :  0.5361\n"
          ]
        }
      ]
    },
    {
      "cell_type": "markdown",
      "source": [
        "9. Final Evaluation of the Model\n",
        "\n",
        "MAPE: Mean Absolute Percentage Error\n",
        "\n",
        "MAE: Mean Absolute Error\n",
        "\n",
        "MPE: Mean Percenage Error\n",
        "\n",
        "RMSE: Root Mean Square Error\n",
        "\n",
        "CORR: Correlation Coefficent\n",
        "\n",
        "Coefficient, r\n",
        "\n",
        "Strength of Association\tPositive\tNegative\n",
        "\n",
        "Small\t                 .1 to .3 or\t-0.1 to -0.3\n",
        "\n",
        "Medium\t               .3 to .5 or\t-0.3 to -0.5\n",
        "\n",
        "Large\t                 .5 to 1.0 or\t-0.5 to -1.0"
      ],
      "metadata": {
        "id": "_zcCLMdO6nGq"
      }
    }
  ]
}